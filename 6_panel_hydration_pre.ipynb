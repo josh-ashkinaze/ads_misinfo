{
 "cells": [
  {
   "cell_type": "code",
   "execution_count": 1,
   "id": "initial_id",
   "metadata": {
    "ExecuteTime": {
     "end_time": "2024-04-01T19:43:31.128815Z",
     "start_time": "2024-04-01T19:43:31.117834Z"
    }
   },
   "outputs": [],
   "source": [
    "import pandas as pd\n",
    "import seaborn as sns\n",
    "import matplotlib.pyplot as plt\n",
    "import tweepy\n",
    "import pandas as pd\n",
    "import numpy as np\n",
    "import random \n",
    "import json\n",
    "import tweepy \n",
    "\n",
    "random.seed(416)\n",
    "np.random.seed(416)\n",
    "\n",
    "with open('twitter_creds3.json', 'r') as file:\n",
    "    secrets = json.load(file)\n",
    "TWITTER_API = secrets['personal_news']"
   ]
  },
  {
   "cell_type": "markdown",
   "id": "4df88f164fb32d16",
   "metadata": {
    "collapsed": false,
    "jupyter": {
     "outputs_hidden": false
    }
   },
   "source": [
    "# Read in data"
   ]
  },
  {
   "cell_type": "code",
   "execution_count": 2,
   "id": "cbc1206a6e73cc0c",
   "metadata": {
    "ExecuteTime": {
     "end_time": "2024-04-01T19:42:37.074960Z",
     "start_time": "2024-04-01T19:42:36.310543Z"
    },
    "collapsed": false,
    "jupyter": {
     "outputs_hidden": false
    }
   },
   "outputs": [],
   "source": [
    "dfs = []\n",
    "usernames = ['charliekirk11', 'gatewaypundit', 'jackposobiec', 'realcandaceo', 'stkirsch']\n",
    "conditions = ['treat', 'ctrl']\n",
    "\n",
    "for username in usernames:\n",
    "    for condition in conditions:\n",
    "        df = pd.read_csv(f'{condition}_twit_{username}.txt', header=None)\n",
    "        df['condition'] = condition\n",
    "        df['username'] = username\n",
    "        df.columns = ['follower_id', 'condition', 'spreader_username']\n",
    "        dfs.append(df)\n",
    "    \n",
    "master_df = pd.concat(dfs)"
   ]
  },
  {
   "cell_type": "markdown",
   "id": "9b25a64e2e20e926",
   "metadata": {
    "collapsed": false,
    "jupyter": {
     "outputs_hidden": false
    }
   },
   "source": [
    "# Hydrate Ids"
   ]
  },
  {
   "cell_type": "code",
   "execution_count": 3,
   "id": "69b04a9e06b94b36",
   "metadata": {
    "ExecuteTime": {
     "end_time": "2024-04-01T19:46:19.501491Z",
     "start_time": "2024-04-01T19:46:18.896289Z"
    },
    "collapsed": false,
    "jupyter": {
     "outputs_hidden": false
    }
   },
   "outputs": [
    {
     "name": "stderr",
     "output_type": "stream",
     "text": [
      "/var/folders/kj/8p_kqzx533b8vldhm5sdjfc00000gn/T/ipykernel_6914/3765090130.py:4: DeprecationWarning: DataFrameGroupBy.apply operated on the grouping columns. This behavior is deprecated, and in a future version of pandas the grouping columns will be excluded from the operation. Either pass `include_groups=False` to exclude the groupings or explicitly select the grouping columns after groupby to silence this warning.\n",
      "  panel = master_df.groupby(['spreader_username', 'condition']).apply(lambda x: x.sample(n=panel_n, replace=False)).reset_index(drop=True)\n"
     ]
    }
   ],
   "source": [
    "panel_n = 200 # how many followers we want per (spreader, condition) block \n",
    "panel_n_pad = 50 # how many followers we want to pad each block with....assuming some will not be reachable when we try to hydrate ids\n",
    "final_panel_n = panel_n + panel_n_pad # total number of followers we want to hydrate per block\n",
    "panel = master_df.groupby(['spreader_username', 'condition']).apply(lambda x: x.sample(n=panel_n, replace=False)).reset_index(drop=True)\n"
   ]
  },
  {
   "cell_type": "code",
   "execution_count": 24,
   "id": "5938c2861db55f87",
   "metadata": {
    "ExecuteTime": {
     "end_time": "2024-04-01T19:58:27.300589Z",
     "start_time": "2024-04-01T19:58:27.193873Z"
    },
    "collapsed": false,
    "jupyter": {
     "outputs_hidden": false
    }
   },
   "outputs": [
    {
     "data": {
      "text/html": [
       "<div>\n",
       "<style scoped>\n",
       "    .dataframe tbody tr th:only-of-type {\n",
       "        vertical-align: middle;\n",
       "    }\n",
       "\n",
       "    .dataframe tbody tr th {\n",
       "        vertical-align: top;\n",
       "    }\n",
       "\n",
       "    .dataframe thead th {\n",
       "        text-align: right;\n",
       "    }\n",
       "</style>\n",
       "<table border=\"1\" class=\"dataframe\">\n",
       "  <thead>\n",
       "    <tr style=\"text-align: right;\">\n",
       "      <th></th>\n",
       "      <th>follower_id</th>\n",
       "      <th>condition</th>\n",
       "      <th>spreader_username</th>\n",
       "    </tr>\n",
       "  </thead>\n",
       "  <tbody>\n",
       "    <tr>\n",
       "      <th>0</th>\n",
       "      <td>1612249376176365570</td>\n",
       "      <td>ctrl</td>\n",
       "      <td>charliekirk11</td>\n",
       "    </tr>\n",
       "    <tr>\n",
       "      <th>1</th>\n",
       "      <td>493332624</td>\n",
       "      <td>ctrl</td>\n",
       "      <td>charliekirk11</td>\n",
       "    </tr>\n",
       "    <tr>\n",
       "      <th>2</th>\n",
       "      <td>1724168354418601984</td>\n",
       "      <td>ctrl</td>\n",
       "      <td>charliekirk11</td>\n",
       "    </tr>\n",
       "    <tr>\n",
       "      <th>3</th>\n",
       "      <td>2318621556</td>\n",
       "      <td>ctrl</td>\n",
       "      <td>charliekirk11</td>\n",
       "    </tr>\n",
       "    <tr>\n",
       "      <th>4</th>\n",
       "      <td>1499417623410446336</td>\n",
       "      <td>ctrl</td>\n",
       "      <td>charliekirk11</td>\n",
       "    </tr>\n",
       "    <tr>\n",
       "      <th>...</th>\n",
       "      <td>...</td>\n",
       "      <td>...</td>\n",
       "      <td>...</td>\n",
       "    </tr>\n",
       "    <tr>\n",
       "      <th>1995</th>\n",
       "      <td>136179128</td>\n",
       "      <td>treat</td>\n",
       "      <td>stkirsch</td>\n",
       "    </tr>\n",
       "    <tr>\n",
       "      <th>1996</th>\n",
       "      <td>1236859643478982656</td>\n",
       "      <td>treat</td>\n",
       "      <td>stkirsch</td>\n",
       "    </tr>\n",
       "    <tr>\n",
       "      <th>1997</th>\n",
       "      <td>1258588813296713729</td>\n",
       "      <td>treat</td>\n",
       "      <td>stkirsch</td>\n",
       "    </tr>\n",
       "    <tr>\n",
       "      <th>1998</th>\n",
       "      <td>1487878309656481793</td>\n",
       "      <td>treat</td>\n",
       "      <td>stkirsch</td>\n",
       "    </tr>\n",
       "    <tr>\n",
       "      <th>1999</th>\n",
       "      <td>899279024995872768</td>\n",
       "      <td>treat</td>\n",
       "      <td>stkirsch</td>\n",
       "    </tr>\n",
       "  </tbody>\n",
       "</table>\n",
       "<p>2000 rows × 3 columns</p>\n",
       "</div>"
      ],
      "text/plain": [
       "              follower_id condition spreader_username\n",
       "0     1612249376176365570      ctrl     charliekirk11\n",
       "1               493332624      ctrl     charliekirk11\n",
       "2     1724168354418601984      ctrl     charliekirk11\n",
       "3              2318621556      ctrl     charliekirk11\n",
       "4     1499417623410446336      ctrl     charliekirk11\n",
       "...                   ...       ...               ...\n",
       "1995            136179128     treat          stkirsch\n",
       "1996  1236859643478982656     treat          stkirsch\n",
       "1997  1258588813296713729     treat          stkirsch\n",
       "1998  1487878309656481793     treat          stkirsch\n",
       "1999   899279024995872768     treat          stkirsch\n",
       "\n",
       "[2000 rows x 3 columns]"
      ]
     },
     "execution_count": 24,
     "metadata": {},
     "output_type": "execute_result"
    }
   ],
   "source": [
    "panel"
   ]
  },
  {
   "cell_type": "markdown",
   "id": "a1d7f0f7-4c0e-4a74-adfe-0dc1a8bd1476",
   "metadata": {},
   "source": [
    "# Scrap"
   ]
  },
  {
   "cell_type": "code",
   "execution_count": 4,
   "id": "57c41e99-4296-42b8-afcf-b121de4c126b",
   "metadata": {},
   "outputs": [],
   "source": [
    "client = tweepy.Client(bearer_token=TWITTER_API['bearer_token'], wait_on_rate_limit=True)"
   ]
  },
  {
   "cell_type": "code",
   "execution_count": 231,
   "id": "1fccf93c-9a67-4860-91b0-b2e462546c3a",
   "metadata": {},
   "outputs": [],
   "source": [
    "tweets_response = client.get_users_tweets(\n",
    "    id='1481596104152125442',\n",
    "    max_results=5,\n",
    "    tweet_fields=[\n",
    "        \"attachments\", \"author_id\", \"conversation_id\",\n",
    "        \"created_at\", \"entities\", \"geo\", \"id\", \"in_reply_to_user_id\", \"lang\",  \"public_metrics\", \"referenced_tweets\", \"reply_settings\", \n",
    "        \"source\", \"text\", \"withheld\", \"note_tweet\"\n",
    "    ],\n",
    "    media_fields=['url', 'preview_image_url'],\n",
    "    expansions=[\n",
    "        \"attachments.poll_ids\", \"attachments.media_keys\", \"author_id\", \"geo.place_id\", \n",
    "        \"in_reply_to_user_id\", \"referenced_tweets.id\", \"entities.mentions.username\", \n",
    "        \"referenced_tweets.id.author_id\", \n",
    "    ]\n",
    ")\n",
    "\n"
   ]
  },
  {
   "cell_type": "code",
   "execution_count": 232,
   "id": "5f45833b-5464-40ca-81be-e10316831d35",
   "metadata": {},
   "outputs": [
    {
     "data": {
      "text/plain": [
       "{'edit_history_tweet_ids': ['1775208072459555070'],\n",
       " 'conversation_id': '1775208072459555070',\n",
       " 'reply_settings': 'everyone',\n",
       " 'author_id': '1481596104152125442',\n",
       " 'entities': {'urls': [{'start': 0,\n",
       "    'end': 23,\n",
       "    'url': 'https://t.co/ntN87xYrX2',\n",
       "    'expanded_url': 'https://www.nytimes.com/interactive/2024/03/28/opinion/ai-political-bias.html',\n",
       "    'display_url': 'nytimes.com/interactive/20…',\n",
       "    'images': [{'url': 'https://pbs.twimg.com/news_img/1773276550726647809/yuRFxxWN?format=jpg&name=orig',\n",
       "      'width': 1600,\n",
       "      'height': 900},\n",
       "     {'url': 'https://pbs.twimg.com/news_img/1773276550726647809/yuRFxxWN?format=jpg&name=150x150',\n",
       "      'width': 150,\n",
       "      'height': 150}],\n",
       "    'status': 200,\n",
       "    'title': 'Opinion | How A.I. Chatbots Become Political',\n",
       "    'description': 'We may soon rely a lot on A.I. chatbots, so keeping an eye on their political leanings is becoming more and more important.',\n",
       "    'unwound_url': 'https://www.nytimes.com/interactive/2024/03/28/opinion/ai-political-bias.html'}]},\n",
       " 'id': '1775208072459555070',\n",
       " 'text': 'https://t.co/ntN87xYrX2',\n",
       " 'created_at': '2024-04-02T17:06:00.000Z',\n",
       " 'public_metrics': {'retweet_count': 0,\n",
       "  'reply_count': 0,\n",
       "  'like_count': 0,\n",
       "  'quote_count': 0,\n",
       "  'bookmark_count': 0,\n",
       "  'impression_count': 1},\n",
       " 'lang': 'zxx'}"
      ]
     },
     "execution_count": 232,
     "metadata": {},
     "output_type": "execute_result"
    }
   ],
   "source": [
    "tweet = tweets_response.data[0].data\n",
    "tweet"
   ]
  },
  {
   "cell_type": "markdown",
   "id": "b0fb0516-f62b-48ef-abfb-1630286f1a9a",
   "metadata": {},
   "source": [
    "# Working messy"
   ]
  },
  {
   "cell_type": "code",
   "execution_count": 228,
   "id": "a56f0365-ecc8-4e33-ac28-2adfdb47307a",
   "metadata": {},
   "outputs": [],
   "source": [
    "\n",
    "def parse_tweet(tweet, includes):\n",
    "    includes_tweet_data = [tweets_response.includes['tweets'][i].data for i in range(len(tweets_response.includes['tweets']))]\n",
    "    includes_user_data = [tweets_response.includes['users'][i].data for i in range(len(tweets_response.includes['users']))]\n",
    "\n",
    "    urls = tweet.get('entities', {}).get('urls', []) if 'entities' in tweet else []\n",
    "    \n",
    "    if urls:\n",
    "        tweet['primary_urls'] = [x['unwound_url'] for x in urls]\n",
    "    else:\n",
    "        tweet['primary_urls'] = []\n",
    "        pass\n",
    "\n",
    "    if 'referenced_tweet' not in tweet:\n",
    "        tweet['referenced_tweets'] = []\n",
    "    else:\n",
    "        ref_tweets = tweet['referenced_tweets']\n",
    "        for ref_tweet in ref_tweets:\n",
    "            ref_tweet['urls'] = []\n",
    "            ref_tweet['ref_author_id'] = None\n",
    "            ref_tweet['ref_author_username'] = None\n",
    "    \n",
    "            rel_tweet = ref_tweet['type']\n",
    "            tweet_id = ref_tweet['id']\n",
    "    \n",
    "            # Get tweet data from the retweet \n",
    "            for t in includes_tweet_data:\n",
    "                if t['id'] == tweet_id:\n",
    "                    try:\n",
    "                        urls = t.get('entities', {}).get('urls', []) if 'entities' in t else []\n",
    "                        expanded_urls = [url['unwound_url'] for url in urls if 'unwound_url' in url]\n",
    "                        ref_tweet['urls'].extend(expanded_urls)\n",
    "                        ref_tweet['ref_author_id'] = t['author_id']\n",
    "                    except:\n",
    "                        pass\n",
    "    \n",
    "            # Get author data from the retweet\n",
    "            for t in includes_user_data:\n",
    "                if t['id']== ref_tweet['ref_author_id']:\n",
    "                    ref_tweet['ref_author_username'] = t['username']\n",
    "                    \n",
    "    return tweet\n",
    "        \n",
    "\n",
    "\n",
    "data = []\n",
    "for i in range(len(tweets_response.data)):\n",
    "    data.append(parse_tweet(tweets_response.data[i].data , tweets_response.includes))\n",
    "\n",
    "\n"
   ]
  },
  {
   "cell_type": "code",
   "execution_count": null,
   "id": "b9a9ec9f-7d61-417b-8bd3-bc952e2d8fbe",
   "metadata": {},
   "outputs": [],
   "source": []
  },
  {
   "cell_type": "code",
   "execution_count": 230,
   "id": "8a376eb3-a637-41ca-aaa3-8a3a65d69195",
   "metadata": {},
   "outputs": [
    {
     "data": {
      "text/plain": [
       "{'entities': {'urls': [{'start': 0,\n",
       "    'end': 23,\n",
       "    'url': 'https://t.co/ntN87xYrX2',\n",
       "    'expanded_url': 'https://www.nytimes.com/interactive/2024/03/28/opinion/ai-political-bias.html',\n",
       "    'display_url': 'nytimes.com/interactive/20…',\n",
       "    'images': [{'url': 'https://pbs.twimg.com/news_img/1773276550726647809/yuRFxxWN?format=jpg&name=orig',\n",
       "      'width': 1600,\n",
       "      'height': 900},\n",
       "     {'url': 'https://pbs.twimg.com/news_img/1773276550726647809/yuRFxxWN?format=jpg&name=150x150',\n",
       "      'width': 150,\n",
       "      'height': 150}],\n",
       "    'status': 200,\n",
       "    'title': 'Opinion | How A.I. Chatbots Become Political',\n",
       "    'description': 'We may soon rely a lot on A.I. chatbots, so keeping an eye on their political leanings is becoming more and more important.',\n",
       "    'unwound_url': 'https://www.nytimes.com/interactive/2024/03/28/opinion/ai-political-bias.html'}]},\n",
       " 'public_metrics': {'retweet_count': 0,\n",
       "  'reply_count': 0,\n",
       "  'like_count': 0,\n",
       "  'quote_count': 0,\n",
       "  'bookmark_count': 0,\n",
       "  'impression_count': 0},\n",
       " 'lang': 'zxx',\n",
       " 'created_at': '2024-04-02T17:06:00.000Z',\n",
       " 'edit_controls': {'edits_remaining': 5,\n",
       "  'is_edit_eligible': True,\n",
       "  'editable_until': datetime.datetime(2024, 4, 2, 18, 6, tzinfo=datetime.timezone.utc)},\n",
       " 'author_id': '1481596104152125442',\n",
       " 'id': '1775208072459555070',\n",
       " 'conversation_id': '1775208072459555070',\n",
       " 'reply_settings': 'everyone',\n",
       " 'text': 'https://t.co/ntN87xYrX2',\n",
       " 'edit_history_tweet_ids': ['1775208072459555070'],\n",
       " 'primary_urls': ['https://www.nytimes.com/interactive/2024/03/28/opinion/ai-political-bias.html'],\n",
       " 'referenced_tweets': []}"
      ]
     },
     "execution_count": 230,
     "metadata": {},
     "output_type": "execute_result"
    }
   ],
   "source": [
    "data[0]"
   ]
  },
  {
   "cell_type": "code",
   "execution_count": 194,
   "id": "d4a227bb-639a-4051-8b96-efa7274543a0",
   "metadata": {},
   "outputs": [
    {
     "data": {
      "text/plain": [
       "{'public_metrics': {'retweet_count': 6,\n",
       "  'reply_count': 0,\n",
       "  'like_count': 0,\n",
       "  'quote_count': 0,\n",
       "  'bookmark_count': 0,\n",
       "  'impression_count': 0},\n",
       " 'edit_history_tweet_ids': ['1766181347406798927'],\n",
       " 'text': 'RT @boixserra: Polarization (and public opinion evaluation of whether it can be overcome) across the world. \\nVia @politico: https://t.co/lO…',\n",
       " 'author_id': '1481596104152125442',\n",
       " 'entities': {'mentions': [{'start': 3,\n",
       "    'end': 13,\n",
       "    'username': 'boixserra',\n",
       "    'id': '471649147'},\n",
       "   {'start': 113, 'end': 122, 'username': 'politico', 'id': '9300262'}]},\n",
       " 'id': '1766181347406798927',\n",
       " 'created_at': '2024-03-08T19:17:01.000Z',\n",
       " 'reply_settings': 'everyone',\n",
       " 'conversation_id': '1766181347406798927',\n",
       " 'referenced_tweets': [{'type': 'retweeted', 'id': '1753054539396075900'}],\n",
       " 'lang': 'en',\n",
       " 'edit_controls': {'edits_remaining': 5,\n",
       "  'is_edit_eligible': False,\n",
       "  'editable_until': datetime.datetime(2024, 3, 8, 20, 17, 1, tzinfo=datetime.timezone.utc)}}"
      ]
     },
     "execution_count": 194,
     "metadata": {},
     "output_type": "execute_result"
    }
   ],
   "source": [
    "tweet"
   ]
  },
  {
   "cell_type": "code",
   "execution_count": 73,
   "id": "dd077215-a4b2-4567-bfd1-6f72cbd8119f",
   "metadata": {},
   "outputs": [],
   "source": [
    "tweet_data = [tweets_response.data[i].data for i in range(len(tweets_response.data))]\n",
    "includes_user_data = [tweets_response.includes['users'][i].data for i in range(len(tweets_response.includes['users']))]\n",
    "includes_tweet_data = [tweets_response.includes['tweets'][i].data for i in range(len(tweets_response.includes['tweets']))]\n",
    "\n",
    "# d = {'1481596104152125442':{'data':[tweets_response.data[i].data for i in range(len(tweets_response.data))]}\n",
    "#      'includes':tweets_response.includes[i].data for i in range(len(tweets_response.data\n",
    "#     }\n"
   ]
  },
  {
   "cell_type": "code",
   "execution_count": 81,
   "id": "521c3f76-9d48-4a28-824f-250ff30dd47a",
   "metadata": {},
   "outputs": [
    {
     "data": {
      "text/plain": [
       "{'text': 'RT @umsi: Spotlight on two new research papers led by UMSI PhD student Joshua Ashkinaze 💡 @JoshAshkinaze\\n\\nHow AI Ideas Affect the Creativit…',\n",
       " 'reply_settings': 'everyone',\n",
       " 'referenced_tweets': [{'type': 'retweeted', 'id': '1766111764263870608'}],\n",
       " 'lang': 'en',\n",
       " 'edit_controls': {'edits_remaining': 5,\n",
       "  'is_edit_eligible': False,\n",
       "  'editable_until': datetime.datetime(2024, 3, 8, 20, 4, 37, tzinfo=datetime.timezone.utc)},\n",
       " 'author_id': '1481596104152125442',\n",
       " 'context_annotations': [{'domain': {'id': '30',\n",
       "    'name': 'Entities [Entity Service]',\n",
       "    'description': 'Entity Service top level domain, every item that is in Entity Service should be in this domain'},\n",
       "   'entity': {'id': '781974596752842752', 'name': 'Services'}},\n",
       "  {'domain': {'id': '46',\n",
       "    'name': 'Business Taxonomy',\n",
       "    'description': 'Categories within Brand Verticals that narrow down the scope of Brands'},\n",
       "   'entity': {'id': '1552291412820893697',\n",
       "    'name': 'Education Business',\n",
       "    'description': 'Brands, companies, advertisers and every non-person handle with the profit intent related to education such as colleges, school material, schools'}},\n",
       "  {'domain': {'id': '48',\n",
       "    'name': 'Product',\n",
       "    'description': 'Products created by Brands.  Examples: Ford Explorer, Apple iPhone.'},\n",
       "   'entity': {'id': '1412579054855671809', 'name': 'Google Innovation'}},\n",
       "  {'domain': {'id': '65',\n",
       "    'name': 'Interests and Hobbies Vertical',\n",
       "    'description': 'Top level interests and hobbies groupings, like Food or Travel'},\n",
       "   'entity': {'id': '847546154439000064',\n",
       "    'name': 'Education',\n",
       "    'description': 'Education through the lens of those passionate about resources and news. This topic excludes Education policy and reform.'}},\n",
       "  {'domain': {'id': '66',\n",
       "    'name': 'Interests and Hobbies Category',\n",
       "    'description': 'A grouping of interests and hobbies entities, like Novelty Food or Destinations'},\n",
       "   'entity': {'id': '852247095461371904',\n",
       "    'name': 'Graduate school',\n",
       "    'description': 'Graduate school'}},\n",
       "  {'domain': {'id': '131',\n",
       "    'name': 'Unified Twitter Taxonomy',\n",
       "    'description': 'A taxonomy of user interests. '},\n",
       "   'entity': {'id': '847546154439000064',\n",
       "    'name': 'Education',\n",
       "    'description': 'Education through the lens of those passionate about resources and news. This topic excludes Education policy and reform.'}},\n",
       "  {'domain': {'id': '131',\n",
       "    'name': 'Unified Twitter Taxonomy',\n",
       "    'description': 'A taxonomy of user interests. '},\n",
       "   'entity': {'id': '852247095461371904',\n",
       "    'name': 'Graduate school',\n",
       "    'description': 'Graduate school'}}],\n",
       " 'id': '1766178225716343208',\n",
       " 'edit_history_tweet_ids': ['1766178225716343208'],\n",
       " 'entities': {'mentions': [{'start': 3,\n",
       "    'end': 8,\n",
       "    'username': 'umsi',\n",
       "    'id': '18033550'},\n",
       "   {'start': 90,\n",
       "    'end': 104,\n",
       "    'username': 'JoshAshkinaze',\n",
       "    'id': '1481596104152125442'}],\n",
       "  'annotations': [{'start': 54,\n",
       "    'end': 57,\n",
       "    'probability': 0.6382,\n",
       "    'type': 'Organization',\n",
       "    'normalized_text': 'UMSI'},\n",
       "   {'start': 71,\n",
       "    'end': 86,\n",
       "    'probability': 0.6694,\n",
       "    'type': 'Person',\n",
       "    'normalized_text': 'Joshua Ashkinaze'}]},\n",
       " 'public_metrics': {'retweet_count': 2,\n",
       "  'reply_count': 0,\n",
       "  'like_count': 0,\n",
       "  'quote_count': 0,\n",
       "  'bookmark_count': 0,\n",
       "  'impression_count': 0},\n",
       " 'conversation_id': '1766178225716343208',\n",
       " 'created_at': '2024-03-08T19:04:37.000Z'}"
      ]
     },
     "execution_count": 81,
     "metadata": {},
     "output_type": "execute_result"
    }
   ],
   "source": [
    "includes_tweet_data[2]"
   ]
  },
  {
   "cell_type": "code",
   "execution_count": 141,
   "id": "2bb6b0bd-16dd-4a6d-988c-4d100a6b9b36",
   "metadata": {},
   "outputs": [
    {
     "data": {
      "text/plain": [
       "{'reply_settings': 'everyone',\n",
       " 'entities': {'mentions': [{'start': 0,\n",
       "    'end': 14,\n",
       "    'username': 'JustinTrudeau',\n",
       "    'id': '14260960'}],\n",
       "  'annotations': [{'start': 20,\n",
       "    'end': 24,\n",
       "    'probability': 0.352,\n",
       "    'type': 'Person',\n",
       "    'normalized_text': 'Moron'}]},\n",
       " 'created_at': '2024-03-28T06:44:12.000Z',\n",
       " 'in_reply_to_user_id': '14260960',\n",
       " 'edit_history_tweet_ids': ['1773239648468295940'],\n",
       " 'author_id': '1612249376176365570',\n",
       " 'public_metrics': {'retweet_count': 0,\n",
       "  'reply_count': 0,\n",
       "  'like_count': 0,\n",
       "  'quote_count': 0,\n",
       "  'bookmark_count': 0,\n",
       "  'impression_count': 2},\n",
       " 'text': '@JustinTrudeau This Moron is all coked out and drops this post at midnight Do another line off of your desk in your office \\nGo back to sleep blackface and resign in disgrace \\nNo one believes your lies anymore because you caused this problem with all your policies and taxation to death',\n",
       " 'id': '1773239648468295940',\n",
       " 'edit_controls': {'edits_remaining': 5,\n",
       "  'is_edit_eligible': False,\n",
       "  'editable_until': datetime.datetime(2024, 3, 28, 7, 44, 12, tzinfo=datetime.timezone.utc)},\n",
       " 'lang': 'en',\n",
       " 'conversation_id': '1773199169580052946',\n",
       " 'referenced_tweets': [{'type': 'replied_to', 'id': '1773199169580052946'}]}"
      ]
     },
     "execution_count": 141,
     "metadata": {},
     "output_type": "execute_result"
    }
   ],
   "source": [
    "l.data"
   ]
  },
  {
   "cell_type": "code",
   "execution_count": 200,
   "id": "8204d67c-b850-417b-8d57-a2276206d0f5",
   "metadata": {},
   "outputs": [
    {
     "data": {
      "text/plain": [
       "{'users': [<User id=1481596104152125442 name=Joshua Ashkinaze username=JoshAshkinaze>,\n",
       "  <User id=471649147 name=Carles Boix 🇺🇦 username=boixserra>,\n",
       "  <User id=9300262 name=POLITICO username=politico>,\n",
       "  <User id=18033550 name=School of Information username=umsi>,\n",
       "  <User id=15184929 name=Ross Dawson username=rossdawson>],\n",
       " 'tweets': [<Tweet id=1766181347406798927 text='RT @boixserra: Polarization (and public opinion evaluation of whether it can be overcome) across the world. \\nVia @politico: https://t.co/lO…'>,\n",
       "  <Tweet id=1753054539396075900 text='Polarization (and public opinion evaluation of whether it can be overcome) across the world. \\nVia @politico: https://t.co/lOBTMouIbx https://t.co/MVOqCDYIDE'>,\n",
       "  <Tweet id=1766178225716343208 text='RT @umsi: Spotlight on two new research papers led by UMSI PhD student Joshua Ashkinaze 💡 @JoshAshkinaze\\n\\nHow AI Ideas Affect the Creativit…'>,\n",
       "  <Tweet id=1766111764263870608 text='Spotlight on two new research papers led by UMSI PhD student Joshua Ashkinaze 💡 @JoshAshkinaze\\n\\nHow AI Ideas Affect the Creativity, Diversity, and Evolution of Human Ideas: Evidence From a Large, Dynamic Experiment https://t.co/3bMYfHeI3t \\n\\nThe Dynamics of (Not) Unfollowing… https://t.co/54ccg1Kdi6'>,\n",
       "  <Tweet id=1765258076662214795 text='RT @umsi: New research from UMSI:\\nThe Dynamics of (Not) Unfollowing Misinformation Spreaders\\nJoshua Ashkinaze, Eric Gilbert, Ceren Budak\\n@e…'>,\n",
       "  <Tweet id=1765059831533392267 text='New research from UMSI:\\nThe Dynamics of (Not) Unfollowing Misinformation Spreaders\\nJoshua Ashkinaze, Eric Gilbert, Ceren Budak\\n@eegilbert @cerenbudak @arxiv\\nhttps://t.co/BATenwxakV'>,\n",
       "  <Tweet id=1765257663166714275 text='RT @umsi: New research from UMSI:\\nHow AI Ideas Affect the Creativity, Diversity, and Evolution of Human Ideas: Evidence From a Large, Dynam…'>,\n",
       "  <Tweet id=1765059829524283624 text='New research from UMSI:\\nHow AI Ideas Affect the Creativity, Diversity, and Evolution of Human Ideas: Evidence From a Large, Dynamic Experiment\\nJoshua Ashkinaze, @jmendelsohn2, Li Qiwei, @cerenbudak, @eegilbert\\n@arxiv\\nhttps://t.co/3bMYfHffT1'>,\n",
       "  <Tweet id=1765257323616886903 text='RT @rossdawson: Distilled from “How AI Ideas Affect the Creativity, Diversity, and Evolution of Human Ideas: Evidence From a Large, Dynamic…'>,\n",
       "  <Tweet id=1764810285955625440 text='Distilled from “How AI Ideas Affect the Creativity, Diversity, and Evolution of Human Ideas: Evidence From a Large, Dynamic Experiment”, arXiv, January 2024 by @JoshAshkinaze  @jmendelsohn2 @cerenbudak et al'>]}"
      ]
     },
     "execution_count": 200,
     "metadata": {},
     "output_type": "execute_result"
    }
   ],
   "source": [
    "includes"
   ]
  },
  {
   "cell_type": "code",
   "execution_count": null,
   "id": "5dd5d072-0dda-4922-a8bb-856d4a4da64c",
   "metadata": {},
   "outputs": [],
   "source": [
    "1753054539396075900"
   ]
  },
  {
   "cell_type": "code",
   "execution_count": 151,
   "id": "609ca267-cee4-468b-a9e3-3f3684fea978",
   "metadata": {},
   "outputs": [],
   "source": [
    "def get_data(user_id):\n",
    "\n",
    "\n",
    "resp = client.get_tweet(id='1753054539396075900', \n",
    "                                \n",
    "                                          tweet_fields=['entities', 'referenced_tweets', 'public_metrics', 'attachments', 'source'],\n",
    "                                          media_fields = ['url', 'preview_image_url'],\n",
    "                                         expansions=['attachments.media_keys', \n",
    "                                                     'entities.mentions.username', \n",
    "                                                     'in_reply_to_user_id', \n",
    "                                                     'author_id', \n",
    "                                                    'referenced_tweets.id', \n",
    "    \n",
    "\n",
    "]\n",
    "                                         ) \n"
   ]
  },
  {
   "cell_type": "code",
   "execution_count": 157,
   "id": "f309ff6e-abda-4c30-8dc0-079226beb6b2",
   "metadata": {},
   "outputs": [],
   "source": [
    "urls = a.data.data['entities']['urls']"
   ]
  },
  {
   "cell_type": "code",
   "execution_count": 159,
   "id": "4ec73e76-7d3e-48f9-94cc-98bdf3649ad5",
   "metadata": {},
   "outputs": [
    {
     "data": {
      "text/plain": [
       "{'start': 109,\n",
       " 'end': 132,\n",
       " 'url': 'https://t.co/lOBTMouIbx',\n",
       " 'expanded_url': 'https://www.politico.eu/newsletter/digital-bridge/how-the-west-was-radicalized/',\n",
       " 'display_url': 'politico.eu/newsletter/dig…',\n",
       " 'images': [{'url': 'https://pbs.twimg.com/news_img/1756302931819655168/Sh2lC_rJ?format=jpg&name=orig',\n",
       "   'width': 1600,\n",
       "   'height': 900},\n",
       "  {'url': 'https://pbs.twimg.com/news_img/1756302931819655168/Sh2lC_rJ?format=jpg&name=150x150',\n",
       "   'width': 150,\n",
       "   'height': 150}],\n",
       " 'status': 200,\n",
       " 'title': 'How the West was radicalized',\n",
       " 'description': \"POLITICO's weekly transatlantic tech newsletter uncovers the digital relationship between critical power-centers through exclusive insights and breaking news for global technology elites and political influencers.\",\n",
       " 'unwound_url': 'https://www.politico.eu/newsletter/digital-bridge/how-the-west-was-radicalized/'}"
      ]
     },
     "execution_count": 159,
     "metadata": {},
     "output_type": "execute_result"
    }
   ],
   "source": [
    "urls[0]"
   ]
  },
  {
   "cell_type": "code",
   "execution_count": null,
   "id": "4bf46a94-a987-4917-afb5-95a969aa110f",
   "metadata": {},
   "outputs": [],
   "source": [
    "def parse_urls(url_dict):\n",
    "    data = []\n",
    "    for url_info in urls:\n",
    "        data.append(\n",
    "        "
   ]
  },
  {
   "cell_type": "code",
   "execution_count": 208,
   "id": "260a4314-c9c6-44d6-ba77-7e3df88c0b92",
   "metadata": {},
   "outputs": [
    {
     "data": {
      "text/plain": [
       "{'id': '1481596104152125442',\n",
       " 'name': 'Joshua Ashkinaze',\n",
       " 'username': 'JoshAshkinaze'}"
      ]
     },
     "execution_count": 208,
     "metadata": {},
     "output_type": "execute_result"
    }
   ],
   "source": [
    "includes['users'][0].data"
   ]
  },
  {
   "cell_type": "code",
   "execution_count": 9,
   "id": "93924b4c-4f48-45d9-a345-9e9aaad9258c",
   "metadata": {},
   "outputs": [
    {
     "data": {
      "text/plain": [
       "Response(data=[<Tweet id=1766181347406798927 text='RT @boixserra: Polarization (and public opinion evaluation of whether it can be overcome) across the world. \\nVia @politico: https://t.co/lO…'>, <Tweet id=1766178225716343208 text='RT @umsi: Spotlight on two new research papers led by UMSI PhD student Joshua Ashkinaze 💡 @JoshAshkinaze\\n\\nHow AI Ideas Affect the Creativit…'>, <Tweet id=1765258076662214795 text='RT @umsi: New research from UMSI:\\nThe Dynamics of (Not) Unfollowing Misinformation Spreaders\\nJoshua Ashkinaze, Eric Gilbert, Ceren Budak\\n@e…'>, <Tweet id=1765257663166714275 text='RT @umsi: New research from UMSI:\\nHow AI Ideas Affect the Creativity, Diversity, and Evolution of Human Ideas: Evidence From a Large, Dynam…'>, <Tweet id=1765257323616886903 text='RT @rossdawson: Distilled from “How AI Ideas Affect the Creativity, Diversity, and Evolution of Human Ideas: Evidence From a Large, Dynamic…'>], includes={'users': [<User id=1481596104152125442 name=Joshua Ashkinaze username=JoshAshkinaze>, <User id=471649147 name=Carles Boix 🇺🇦 username=boixserra>, <User id=9300262 name=POLITICO username=politico>, <User id=18033550 name=School of Information username=umsi>, <User id=15184929 name=Ross Dawson username=rossdawson>], 'tweets': [<Tweet id=1766181347406798927 text='RT @boixserra: Polarization (and public opinion evaluation of whether it can be overcome) across the world. \\nVia @politico: https://t.co/lO…'>, <Tweet id=1753054539396075900 text='Polarization (and public opinion evaluation of whether it can be overcome) across the world. \\nVia @politico: https://t.co/lOBTMouIbx https://t.co/MVOqCDYIDE'>, <Tweet id=1766178225716343208 text='RT @umsi: Spotlight on two new research papers led by UMSI PhD student Joshua Ashkinaze 💡 @JoshAshkinaze\\n\\nHow AI Ideas Affect the Creativit…'>, <Tweet id=1766111764263870608 text='Spotlight on two new research papers led by UMSI PhD student Joshua Ashkinaze 💡 @JoshAshkinaze\\n\\nHow AI Ideas Affect the Creativity, Diversity, and Evolution of Human Ideas: Evidence From a Large, Dynamic Experiment https://t.co/3bMYfHeI3t \\n\\nThe Dynamics of (Not) Unfollowing… https://t.co/54ccg1Kdi6'>, <Tweet id=1765258076662214795 text='RT @umsi: New research from UMSI:\\nThe Dynamics of (Not) Unfollowing Misinformation Spreaders\\nJoshua Ashkinaze, Eric Gilbert, Ceren Budak\\n@e…'>, <Tweet id=1765059831533392267 text='New research from UMSI:\\nThe Dynamics of (Not) Unfollowing Misinformation Spreaders\\nJoshua Ashkinaze, Eric Gilbert, Ceren Budak\\n@eegilbert @cerenbudak @arxiv\\nhttps://t.co/BATenwxakV'>, <Tweet id=1765257663166714275 text='RT @umsi: New research from UMSI:\\nHow AI Ideas Affect the Creativity, Diversity, and Evolution of Human Ideas: Evidence From a Large, Dynam…'>, <Tweet id=1765059829524283624 text='New research from UMSI:\\nHow AI Ideas Affect the Creativity, Diversity, and Evolution of Human Ideas: Evidence From a Large, Dynamic Experiment\\nJoshua Ashkinaze, @jmendelsohn2, Li Qiwei, @cerenbudak, @eegilbert\\n@arxiv\\nhttps://t.co/3bMYfHffT1'>, <Tweet id=1765257323616886903 text='RT @rossdawson: Distilled from “How AI Ideas Affect the Creativity, Diversity, and Evolution of Human Ideas: Evidence From a Large, Dynamic…'>, <Tweet id=1764810285955625440 text='Distilled from “How AI Ideas Affect the Creativity, Diversity, and Evolution of Human Ideas: Evidence From a Large, Dynamic Experiment”, arXiv, January 2024 by @JoshAshkinaze  @jmendelsohn2 @cerenbudak et al'>]}, errors=[], meta={'result_count': 5, 'newest_id': '1766181347406798927', 'oldest_id': '1765257323616886903', 'next_token': '7140dibdnow9c7btw482mjubo0j6gfcfdyvdspo5m3dbn'})"
      ]
     },
     "execution_count": 9,
     "metadata": {},
     "output_type": "execute_result"
    }
   ],
   "source": [
    "tweets_response"
   ]
  },
  {
   "cell_type": "code",
   "execution_count": 21,
   "id": "94ea1d76-4912-4bca-9339-1bac7d555412",
   "metadata": {},
   "outputs": [
    {
     "data": {
      "text/plain": [
       "{'text': 'RT @boixserra: Polarization (and public opinion evaluation of whether it can be overcome) across the world. \\nVia @politico: https://t.co/lO…',\n",
       " 'reply_settings': 'everyone',\n",
       " 'referenced_tweets': [{'type': 'retweeted', 'id': '1753054539396075900'}],\n",
       " 'lang': 'en',\n",
       " 'edit_controls': {'edits_remaining': 5,\n",
       "  'is_edit_eligible': False,\n",
       "  'editable_until': datetime.datetime(2024, 3, 8, 20, 17, 1, tzinfo=datetime.timezone.utc)},\n",
       " 'author_id': '1481596104152125442',\n",
       " 'id': '1766181347406798927',\n",
       " 'edit_history_tweet_ids': ['1766181347406798927'],\n",
       " 'entities': {'mentions': [{'start': 3,\n",
       "    'end': 13,\n",
       "    'username': 'boixserra',\n",
       "    'id': '471649147'},\n",
       "   {'start': 113, 'end': 122, 'username': 'politico', 'id': '9300262'}]},\n",
       " 'public_metrics': {'retweet_count': 6,\n",
       "  'reply_count': 0,\n",
       "  'like_count': 0,\n",
       "  'quote_count': 0,\n",
       "  'bookmark_count': 0,\n",
       "  'impression_count': 0},\n",
       " 'conversation_id': '1766181347406798927',\n",
       " 'created_at': '2024-03-08T19:17:01.000Z'}"
      ]
     },
     "execution_count": 21,
     "metadata": {},
     "output_type": "execute_result"
    }
   ],
   "source": [
    "data = tweets_response.data\n",
    "includes = tweets_response.includes\n",
    "t = data[0].data\n",
    "t\n"
   ]
  },
  {
   "cell_type": "code",
   "execution_count": 18,
   "id": "02c7593a-fb9e-4134-bca1-b276ae2e1592",
   "metadata": {},
   "outputs": [
    {
     "name": "stdout",
     "output_type": "stream",
     "text": [
      "{'type': 'retweeted', 'id': '1753054539396075900'}\n"
     ]
    }
   ],
   "source": [
    "if 'referenced_tweets' in t:\n",
    "    for ref_tweet in t['referenced_tweets']:\n",
    "        print(ref_tweet)"
   ]
  },
  {
   "cell_type": "code",
   "execution_count": 26,
   "id": "d9502d8e-310d-4bd9-b688-f7cc1fd004e8",
   "metadata": {},
   "outputs": [
    {
     "name": "stdout",
     "output_type": "stream",
     "text": [
      "{'text': 'RT @boixserra: Polarization (and public opinion evaluation of whether it can be overcome) across the world. \\nVia @politico: https://t.co/lO…', 'reply_settings': 'everyone', 'referenced_tweets': [{'type': 'retweeted', 'id': '1753054539396075900'}], 'lang': 'en', 'edit_controls': {'edits_remaining': 5, 'is_edit_eligible': False, 'editable_until': datetime.datetime(2024, 3, 8, 20, 17, 1, tzinfo=datetime.timezone.utc)}, 'author_id': '1481596104152125442', 'id': '1766181347406798927', 'edit_history_tweet_ids': ['1766181347406798927'], 'entities': {'mentions': [{'start': 3, 'end': 13, 'username': 'boixserra', 'id': '471649147'}, {'start': 113, 'end': 122, 'username': 'politico', 'id': '9300262'}]}, 'public_metrics': {'retweet_count': 6, 'reply_count': 0, 'like_count': 0, 'quote_count': 0, 'bookmark_count': 0, 'impression_count': 0}, 'conversation_id': '1766181347406798927', 'created_at': '2024-03-08T19:17:01.000Z'}\n",
      "{'text': 'Polarization (and public opinion evaluation of whether it can be overcome) across the world. \\nVia @politico: https://t.co/lOBTMouIbx https://t.co/MVOqCDYIDE', 'reply_settings': 'everyone', 'lang': 'en', 'edit_controls': {'edits_remaining': 5, 'is_edit_eligible': True, 'editable_until': datetime.datetime(2024, 2, 1, 14, 55, 47, tzinfo=datetime.timezone.utc)}, 'author_id': '471649147', 'id': '1753054539396075900', 'edit_history_tweet_ids': ['1753054539396075900'], 'entities': {'mentions': [{'start': 98, 'end': 107, 'username': 'politico', 'id': '9300262'}], 'urls': [{'start': 109, 'end': 132, 'url': 'https://t.co/lOBTMouIbx', 'expanded_url': 'https://www.politico.eu/newsletter/digital-bridge/how-the-west-was-radicalized/', 'display_url': 'politico.eu/newsletter/dig…', 'images': [{'url': 'https://pbs.twimg.com/news_img/1756302931819655168/Sh2lC_rJ?format=jpg&name=orig', 'width': 1600, 'height': 900}, {'url': 'https://pbs.twimg.com/news_img/1756302931819655168/Sh2lC_rJ?format=jpg&name=150x150', 'width': 150, 'height': 150}], 'status': 200, 'title': 'How the West was radicalized', 'description': \"POLITICO's weekly transatlantic tech newsletter uncovers the digital relationship between critical power-centers through exclusive insights and breaking news for global technology elites and political influencers.\", 'unwound_url': 'https://www.politico.eu/newsletter/digital-bridge/how-the-west-was-radicalized/'}, {'start': 133, 'end': 156, 'url': 'https://t.co/MVOqCDYIDE', 'expanded_url': 'https://twitter.com/boixserra/status/1753054539396075900/photo/1', 'display_url': 'pic.twitter.com/MVOqCDYIDE', 'media_key': '3_1753054073132044288'}]}, 'public_metrics': {'retweet_count': 6, 'reply_count': 0, 'like_count': 6, 'quote_count': 0, 'bookmark_count': 3, 'impression_count': 1234}, 'conversation_id': '1753054539396075900', 'created_at': '2024-02-01T13:55:47.000Z', 'attachments': {'media_keys': ['3_1753054073132044288']}}\n",
      "{'text': 'RT @umsi: Spotlight on two new research papers led by UMSI PhD student Joshua Ashkinaze 💡 @JoshAshkinaze\\n\\nHow AI Ideas Affect the Creativit…', 'reply_settings': 'everyone', 'referenced_tweets': [{'type': 'retweeted', 'id': '1766111764263870608'}], 'lang': 'en', 'edit_controls': {'edits_remaining': 5, 'is_edit_eligible': False, 'editable_until': datetime.datetime(2024, 3, 8, 20, 4, 37, tzinfo=datetime.timezone.utc)}, 'author_id': '1481596104152125442', 'context_annotations': [{'domain': {'id': '30', 'name': 'Entities [Entity Service]', 'description': 'Entity Service top level domain, every item that is in Entity Service should be in this domain'}, 'entity': {'id': '781974596752842752', 'name': 'Services'}}, {'domain': {'id': '46', 'name': 'Business Taxonomy', 'description': 'Categories within Brand Verticals that narrow down the scope of Brands'}, 'entity': {'id': '1552291412820893697', 'name': 'Education Business', 'description': 'Brands, companies, advertisers and every non-person handle with the profit intent related to education such as colleges, school material, schools'}}, {'domain': {'id': '48', 'name': 'Product', 'description': 'Products created by Brands.  Examples: Ford Explorer, Apple iPhone.'}, 'entity': {'id': '1412579054855671809', 'name': 'Google Innovation'}}, {'domain': {'id': '65', 'name': 'Interests and Hobbies Vertical', 'description': 'Top level interests and hobbies groupings, like Food or Travel'}, 'entity': {'id': '847546154439000064', 'name': 'Education', 'description': 'Education through the lens of those passionate about resources and news. This topic excludes Education policy and reform.'}}, {'domain': {'id': '66', 'name': 'Interests and Hobbies Category', 'description': 'A grouping of interests and hobbies entities, like Novelty Food or Destinations'}, 'entity': {'id': '852247095461371904', 'name': 'Graduate school', 'description': 'Graduate school'}}, {'domain': {'id': '131', 'name': 'Unified Twitter Taxonomy', 'description': 'A taxonomy of user interests. '}, 'entity': {'id': '847546154439000064', 'name': 'Education', 'description': 'Education through the lens of those passionate about resources and news. This topic excludes Education policy and reform.'}}, {'domain': {'id': '131', 'name': 'Unified Twitter Taxonomy', 'description': 'A taxonomy of user interests. '}, 'entity': {'id': '852247095461371904', 'name': 'Graduate school', 'description': 'Graduate school'}}], 'id': '1766178225716343208', 'edit_history_tweet_ids': ['1766178225716343208'], 'entities': {'mentions': [{'start': 3, 'end': 8, 'username': 'umsi', 'id': '18033550'}, {'start': 90, 'end': 104, 'username': 'JoshAshkinaze', 'id': '1481596104152125442'}], 'annotations': [{'start': 54, 'end': 57, 'probability': 0.6382, 'type': 'Organization', 'normalized_text': 'UMSI'}, {'start': 71, 'end': 86, 'probability': 0.6694, 'type': 'Person', 'normalized_text': 'Joshua Ashkinaze'}]}, 'public_metrics': {'retweet_count': 2, 'reply_count': 0, 'like_count': 0, 'quote_count': 0, 'bookmark_count': 0, 'impression_count': 0}, 'conversation_id': '1766178225716343208', 'created_at': '2024-03-08T19:04:37.000Z'}\n",
      "{'text': 'Spotlight on two new research papers led by UMSI PhD student Joshua Ashkinaze 💡 @JoshAshkinaze\\n\\nHow AI Ideas Affect the Creativity, Diversity, and Evolution of Human Ideas: Evidence From a Large, Dynamic Experiment https://t.co/3bMYfHeI3t \\n\\nThe Dynamics of (Not) Unfollowing… https://t.co/54ccg1Kdi6', 'reply_settings': 'everyone', 'lang': 'en', 'edit_controls': {'edits_remaining': 5, 'is_edit_eligible': True, 'editable_until': datetime.datetime(2024, 3, 8, 15, 40, 32, tzinfo=datetime.timezone.utc)}, 'note_tweet': {'text': 'Spotlight on two new research papers led by UMSI PhD student Joshua Ashkinaze 💡 @JoshAshkinaze\\n\\nHow AI Ideas Affect the Creativity, Diversity, and Evolution of Human Ideas: Evidence From a Large, Dynamic Experiment https://t.co/kOgA3guReb \\n\\nThe Dynamics of (Not) Unfollowing Misinformation Spreaders https://t.co/qVnQJtlVay', 'entities': {'mentions': [{'start': 80, 'end': 94, 'username': 'JoshAshkinaze', 'id': '1481596104152125442'}], 'urls': [{'start': 215, 'end': 238, 'url': 'https://t.co/kOgA3guReb', 'expanded_url': 'https://arxiv.org/abs/2401.13481', 'display_url': 'arxiv.org/abs/2401.13481'}, {'start': 300, 'end': 323, 'url': 'https://t.co/qVnQJtlVay', 'expanded_url': 'https://arxiv.org/abs/2401.13480', 'display_url': 'arxiv.org/abs/2401.13480'}]}}, 'author_id': '18033550', 'context_annotations': [{'domain': {'id': '30', 'name': 'Entities [Entity Service]', 'description': 'Entity Service top level domain, every item that is in Entity Service should be in this domain'}, 'entity': {'id': '781974596752842752', 'name': 'Services'}}, {'domain': {'id': '46', 'name': 'Business Taxonomy', 'description': 'Categories within Brand Verticals that narrow down the scope of Brands'}, 'entity': {'id': '1552291412820893697', 'name': 'Education Business', 'description': 'Brands, companies, advertisers and every non-person handle with the profit intent related to education such as colleges, school material, schools'}}, {'domain': {'id': '48', 'name': 'Product', 'description': 'Products created by Brands.  Examples: Ford Explorer, Apple iPhone.'}, 'entity': {'id': '1412579054855671809', 'name': 'Google Innovation'}}, {'domain': {'id': '65', 'name': 'Interests and Hobbies Vertical', 'description': 'Top level interests and hobbies groupings, like Food or Travel'}, 'entity': {'id': '847546154439000064', 'name': 'Education', 'description': 'Education through the lens of those passionate about resources and news. This topic excludes Education policy and reform.'}}, {'domain': {'id': '66', 'name': 'Interests and Hobbies Category', 'description': 'A grouping of interests and hobbies entities, like Novelty Food or Destinations'}, 'entity': {'id': '852247095461371904', 'name': 'Graduate school', 'description': 'Graduate school'}}, {'domain': {'id': '131', 'name': 'Unified Twitter Taxonomy', 'description': 'A taxonomy of user interests. '}, 'entity': {'id': '847546154439000064', 'name': 'Education', 'description': 'Education through the lens of those passionate about resources and news. This topic excludes Education policy and reform.'}}, {'domain': {'id': '131', 'name': 'Unified Twitter Taxonomy', 'description': 'A taxonomy of user interests. '}, 'entity': {'id': '852247095461371904', 'name': 'Graduate school', 'description': 'Graduate school'}}], 'id': '1766111764263870608', 'edit_history_tweet_ids': ['1766111764263870608'], 'entities': {'mentions': [{'start': 80, 'end': 94, 'username': 'JoshAshkinaze', 'id': '1481596104152125442'}], 'annotations': [{'start': 44, 'end': 47, 'probability': 0.5717, 'type': 'Organization', 'normalized_text': 'UMSI'}, {'start': 61, 'end': 76, 'probability': 0.5994, 'type': 'Person', 'normalized_text': 'Joshua Ashkinaze'}], 'urls': [{'start': 215, 'end': 238, 'url': 'https://t.co/3bMYfHeI3t', 'expanded_url': 'https://arxiv.org/abs/2401.13481', 'display_url': 'arxiv.org/abs/2401.13481', 'images': [{'url': 'https://pbs.twimg.com/news_img/1765059873191186432/7hpbWfuq?format=jpg&name=orig', 'width': 1000, 'height': 1000}, {'url': 'https://pbs.twimg.com/news_img/1765059873191186432/7hpbWfuq?format=jpg&name=150x150', 'width': 150, 'height': 150}], 'status': 200, 'title': 'How AI Ideas Affect the Creativity, Diversity, and Evolution of...', 'description': 'Exposure to large language model output is rapidly increasing. How will seeing AI-generated ideas affect human ideas? We conducted an experiment (800+ participants, 40+ countries) where...', 'unwound_url': 'https://arxiv.org/abs/2401.13481'}, {'start': 276, 'end': 299, 'url': 'https://t.co/54ccg1Kdi6', 'expanded_url': 'https://twitter.com/i/web/status/1766111764263870608', 'display_url': 'twitter.com/i/web/status/1…'}]}, 'public_metrics': {'retweet_count': 2, 'reply_count': 1, 'like_count': 11, 'quote_count': 0, 'bookmark_count': 1, 'impression_count': 1228}, 'conversation_id': '1766111764263870608', 'created_at': '2024-03-08T14:40:32.000Z'}\n",
      "{'text': 'RT @umsi: New research from UMSI:\\nThe Dynamics of (Not) Unfollowing Misinformation Spreaders\\nJoshua Ashkinaze, Eric Gilbert, Ceren Budak\\n@e…', 'reply_settings': 'everyone', 'referenced_tweets': [{'type': 'retweeted', 'id': '1765059831533392267'}], 'lang': 'en', 'edit_controls': {'edits_remaining': 5, 'is_edit_eligible': False, 'editable_until': datetime.datetime(2024, 3, 6, 7, 8, 17, tzinfo=datetime.timezone.utc)}, 'author_id': '1481596104152125442', 'id': '1765258076662214795', 'edit_history_tweet_ids': ['1765258076662214795'], 'entities': {'mentions': [{'start': 3, 'end': 8, 'username': 'umsi', 'id': '18033550'}], 'annotations': [{'start': 28, 'end': 31, 'probability': 0.563, 'type': 'Organization', 'normalized_text': 'UMSI'}, {'start': 38, 'end': 48, 'probability': 0.5452, 'type': 'Other', 'normalized_text': 'Dynamics of'}, {'start': 93, 'end': 108, 'probability': 0.9111, 'type': 'Person', 'normalized_text': 'Joshua Ashkinaze'}, {'start': 111, 'end': 122, 'probability': 0.9584, 'type': 'Person', 'normalized_text': 'Eric Gilbert'}, {'start': 125, 'end': 135, 'probability': 0.8689, 'type': 'Person', 'normalized_text': 'Ceren Budak'}]}, 'public_metrics': {'retweet_count': 1, 'reply_count': 0, 'like_count': 0, 'quote_count': 0, 'bookmark_count': 0, 'impression_count': 0}, 'conversation_id': '1765258076662214795', 'created_at': '2024-03-06T06:08:17.000Z'}\n",
      "{'text': 'New research from UMSI:\\nThe Dynamics of (Not) Unfollowing Misinformation Spreaders\\nJoshua Ashkinaze, Eric Gilbert, Ceren Budak\\n@eegilbert @cerenbudak @arxiv\\nhttps://t.co/BATenwxakV', 'reply_settings': 'everyone', 'referenced_tweets': [{'type': 'replied_to', 'id': '1765059829524283624'}], 'lang': 'en', 'edit_controls': {'edits_remaining': 5, 'is_edit_eligible': False, 'editable_until': datetime.datetime(2024, 3, 5, 18, 0, 31, tzinfo=datetime.timezone.utc)}, 'author_id': '18033550', 'id': '1765059831533392267', 'edit_history_tweet_ids': ['1765059831533392267'], 'in_reply_to_user_id': '18033550', 'entities': {'mentions': [{'start': 127, 'end': 137, 'username': 'eegilbert', 'id': '19819769'}, {'start': 138, 'end': 149, 'username': 'cerenbudak', 'id': '34721078'}, {'start': 150, 'end': 156, 'username': 'arxiv', 'id': '808633423300624384'}], 'annotations': [{'start': 18, 'end': 21, 'probability': 0.6227, 'type': 'Organization', 'normalized_text': 'UMSI'}, {'start': 24, 'end': 35, 'probability': 0.5101, 'type': 'Other', 'normalized_text': 'The Dynamics'}, {'start': 83, 'end': 98, 'probability': 0.8829, 'type': 'Person', 'normalized_text': 'Joshua Ashkinaze'}, {'start': 101, 'end': 112, 'probability': 0.9604, 'type': 'Person', 'normalized_text': 'Eric Gilbert'}, {'start': 115, 'end': 125, 'probability': 0.8269, 'type': 'Person', 'normalized_text': 'Ceren Budak'}], 'urls': [{'start': 157, 'end': 180, 'url': 'https://t.co/BATenwxakV', 'expanded_url': 'https://arxiv.org/abs/2401.13480', 'display_url': 'arxiv.org/abs/2401.13480', 'images': [{'url': 'https://pbs.twimg.com/news_img/1765059835236892672/ktJ3KD00?format=jpg&name=orig', 'width': 1000, 'height': 1000}, {'url': 'https://pbs.twimg.com/news_img/1765059835236892672/ktJ3KD00?format=jpg&name=150x150', 'width': 150, 'height': 150}], 'status': 200, 'title': 'The Dynamics of (Not) Unfollowing Misinformation Spreaders', 'description': \"Many studies explore how people 'come into' misinformation exposure. But much less is known about how people 'come out of' misinformation exposure. Do people organically sever ties to...\", 'unwound_url': 'https://arxiv.org/abs/2401.13480'}]}, 'public_metrics': {'retweet_count': 1, 'reply_count': 1, 'like_count': 1, 'quote_count': 0, 'bookmark_count': 0, 'impression_count': 57}, 'conversation_id': '1765059794384412785', 'created_at': '2024-03-05T17:00:31.000Z'}\n",
      "{'text': 'RT @umsi: New research from UMSI:\\nHow AI Ideas Affect the Creativity, Diversity, and Evolution of Human Ideas: Evidence From a Large, Dynam…', 'reply_settings': 'everyone', 'referenced_tweets': [{'type': 'retweeted', 'id': '1765059829524283624'}], 'lang': 'en', 'edit_controls': {'edits_remaining': 5, 'is_edit_eligible': False, 'editable_until': datetime.datetime(2024, 3, 6, 7, 6, 38, tzinfo=datetime.timezone.utc)}, 'author_id': '1481596104152125442', 'context_annotations': [{'domain': {'id': '30', 'name': 'Entities [Entity Service]', 'description': 'Entity Service top level domain, every item that is in Entity Service should be in this domain'}, 'entity': {'id': '781974596752842752', 'name': 'Services'}}, {'domain': {'id': '48', 'name': 'Product', 'description': 'Products created by Brands.  Examples: Ford Explorer, Apple iPhone.'}, 'entity': {'id': '1412579054855671809', 'name': 'Google Innovation'}}], 'id': '1765257663166714275', 'edit_history_tweet_ids': ['1765257663166714275'], 'entities': {'mentions': [{'start': 3, 'end': 8, 'username': 'umsi', 'id': '18033550'}], 'annotations': [{'start': 28, 'end': 31, 'probability': 0.6107, 'type': 'Organization', 'normalized_text': 'UMSI'}]}, 'public_metrics': {'retweet_count': 2, 'reply_count': 0, 'like_count': 0, 'quote_count': 0, 'bookmark_count': 0, 'impression_count': 0}, 'conversation_id': '1765257663166714275', 'created_at': '2024-03-06T06:06:38.000Z'}\n",
      "{'text': 'New research from UMSI:\\nHow AI Ideas Affect the Creativity, Diversity, and Evolution of Human Ideas: Evidence From a Large, Dynamic Experiment\\nJoshua Ashkinaze, @jmendelsohn2, Li Qiwei, @cerenbudak, @eegilbert\\n@arxiv\\nhttps://t.co/3bMYfHffT1', 'reply_settings': 'everyone', 'referenced_tweets': [{'type': 'replied_to', 'id': '1765059827607507236'}], 'lang': 'en', 'edit_controls': {'edits_remaining': 5, 'is_edit_eligible': False, 'editable_until': datetime.datetime(2024, 3, 5, 18, 0, 31, tzinfo=datetime.timezone.utc)}, 'author_id': '18033550', 'context_annotations': [{'domain': {'id': '30', 'name': 'Entities [Entity Service]', 'description': 'Entity Service top level domain, every item that is in Entity Service should be in this domain'}, 'entity': {'id': '781974596752842752', 'name': 'Services'}}, {'domain': {'id': '48', 'name': 'Product', 'description': 'Products created by Brands.  Examples: Ford Explorer, Apple iPhone.'}, 'entity': {'id': '1412579054855671809', 'name': 'Google Innovation'}}], 'id': '1765059829524283624', 'edit_history_tweet_ids': ['1765059829524283624'], 'in_reply_to_user_id': '18033550', 'entities': {'mentions': [{'start': 161, 'end': 174, 'username': 'jmendelsohn2', 'id': '788397395608412160'}, {'start': 186, 'end': 197, 'username': 'cerenbudak', 'id': '34721078'}, {'start': 199, 'end': 209, 'username': 'eegilbert', 'id': '19819769'}, {'start': 210, 'end': 216, 'username': 'arxiv', 'id': '808633423300624384'}], 'annotations': [{'start': 18, 'end': 21, 'probability': 0.5455, 'type': 'Organization', 'normalized_text': 'UMSI'}, {'start': 143, 'end': 158, 'probability': 0.7239, 'type': 'Person', 'normalized_text': 'Joshua Ashkinaze'}, {'start': 176, 'end': 183, 'probability': 0.5275, 'type': 'Other', 'normalized_text': 'Li Qiwei'}], 'urls': [{'start': 217, 'end': 240, 'url': 'https://t.co/3bMYfHffT1', 'expanded_url': 'https://arxiv.org/abs/2401.13481', 'display_url': 'arxiv.org/abs/2401.13481', 'images': [{'url': 'https://pbs.twimg.com/news_img/1765059873191186432/7hpbWfuq?format=jpg&name=orig', 'width': 1000, 'height': 1000}, {'url': 'https://pbs.twimg.com/news_img/1765059873191186432/7hpbWfuq?format=jpg&name=150x150', 'width': 150, 'height': 150}], 'status': 200, 'title': 'How AI Ideas Affect the Creativity, Diversity, and Evolution of...', 'description': 'Exposure to large language model output is rapidly increasing. How will seeing AI-generated ideas affect human ideas? We conducted an experiment (800+ participants, 40+ countries) where...', 'unwound_url': 'https://arxiv.org/abs/2401.13481'}]}, 'public_metrics': {'retweet_count': 2, 'reply_count': 1, 'like_count': 5, 'quote_count': 0, 'bookmark_count': 2, 'impression_count': 402}, 'conversation_id': '1765059794384412785', 'created_at': '2024-03-05T17:00:31.000Z'}\n",
      "{'text': 'RT @rossdawson: Distilled from “How AI Ideas Affect the Creativity, Diversity, and Evolution of Human Ideas: Evidence From a Large, Dynamic…', 'reply_settings': 'everyone', 'referenced_tweets': [{'type': 'retweeted', 'id': '1764810285955625440'}], 'lang': 'en', 'edit_controls': {'edits_remaining': 5, 'is_edit_eligible': False, 'editable_until': datetime.datetime(2024, 3, 6, 7, 5, 17, tzinfo=datetime.timezone.utc)}, 'author_id': '1481596104152125442', 'id': '1765257323616886903', 'edit_history_tweet_ids': ['1765257323616886903'], 'entities': {'mentions': [{'start': 3, 'end': 14, 'username': 'rossdawson', 'id': '15184929'}]}, 'public_metrics': {'retweet_count': 1, 'reply_count': 0, 'like_count': 0, 'quote_count': 0, 'bookmark_count': 0, 'impression_count': 0}, 'conversation_id': '1765257323616886903', 'created_at': '2024-03-06T06:05:17.000Z'}\n",
      "{'text': 'Distilled from “How AI Ideas Affect the Creativity, Diversity, and Evolution of Human Ideas: Evidence From a Large, Dynamic Experiment”, arXiv, January 2024 by @JoshAshkinaze  @jmendelsohn2 @cerenbudak et al', 'reply_settings': 'everyone', 'referenced_tweets': [{'type': 'replied_to', 'id': '1764810038487462039'}], 'lang': 'en', 'edit_controls': {'edits_remaining': 5, 'is_edit_eligible': False, 'editable_until': datetime.datetime(2024, 3, 5, 1, 28, 55, tzinfo=datetime.timezone.utc)}, 'author_id': '15184929', 'id': '1764810285955625440', 'edit_history_tweet_ids': ['1764810285955625440'], 'in_reply_to_user_id': '15184929', 'entities': {'mentions': [{'start': 160, 'end': 174, 'username': 'JoshAshkinaze', 'id': '1481596104152125442'}, {'start': 176, 'end': 189, 'username': 'jmendelsohn2', 'id': '788397395608412160'}, {'start': 190, 'end': 201, 'username': 'cerenbudak', 'id': '34721078'}], 'annotations': [{'start': 23, 'end': 27, 'probability': 0.5271, 'type': 'Other', 'normalized_text': 'Ideas'}]}, 'public_metrics': {'retweet_count': 1, 'reply_count': 1, 'like_count': 1, 'quote_count': 0, 'bookmark_count': 0, 'impression_count': 514}, 'conversation_id': '1764808269543944599', 'created_at': '2024-03-05T00:28:55.000Z'}\n"
     ]
    }
   ],
   "source": [
    "for x in includes['tweets']:\n",
    "    print(x.data)"
   ]
  },
  {
   "cell_type": "code",
   "execution_count": 31,
   "id": "f947622e-75cc-4a9f-a178-4fae25f16415",
   "metadata": {},
   "outputs": [
    {
     "data": {
      "text/plain": [
       "[<Tweet id=1766181347406798927 text='RT @boixserra: Polarization (and public opinion evaluation of whether it can be overcome) across the world. \\nVia @politico: https://t.co/lO…'>,\n",
       " <Tweet id=1753054539396075900 text='Polarization (and public opinion evaluation of whether it can be overcome) across the world. \\nVia @politico: https://t.co/lOBTMouIbx https://t.co/MVOqCDYIDE'>,\n",
       " <Tweet id=1766178225716343208 text='RT @umsi: Spotlight on two new research papers led by UMSI PhD student Joshua Ashkinaze 💡 @JoshAshkinaze\\n\\nHow AI Ideas Affect the Creativit…'>,\n",
       " <Tweet id=1766111764263870608 text='Spotlight on two new research papers led by UMSI PhD student Joshua Ashkinaze 💡 @JoshAshkinaze\\n\\nHow AI Ideas Affect the Creativity, Diversity, and Evolution of Human Ideas: Evidence From a Large, Dynamic Experiment https://t.co/3bMYfHeI3t \\n\\nThe Dynamics of (Not) Unfollowing… https://t.co/54ccg1Kdi6'>,\n",
       " <Tweet id=1765258076662214795 text='RT @umsi: New research from UMSI:\\nThe Dynamics of (Not) Unfollowing Misinformation Spreaders\\nJoshua Ashkinaze, Eric Gilbert, Ceren Budak\\n@e…'>,\n",
       " <Tweet id=1765059831533392267 text='New research from UMSI:\\nThe Dynamics of (Not) Unfollowing Misinformation Spreaders\\nJoshua Ashkinaze, Eric Gilbert, Ceren Budak\\n@eegilbert @cerenbudak @arxiv\\nhttps://t.co/BATenwxakV'>,\n",
       " <Tweet id=1765257663166714275 text='RT @umsi: New research from UMSI:\\nHow AI Ideas Affect the Creativity, Diversity, and Evolution of Human Ideas: Evidence From a Large, Dynam…'>,\n",
       " <Tweet id=1765059829524283624 text='New research from UMSI:\\nHow AI Ideas Affect the Creativity, Diversity, and Evolution of Human Ideas: Evidence From a Large, Dynamic Experiment\\nJoshua Ashkinaze, @jmendelsohn2, Li Qiwei, @cerenbudak, @eegilbert\\n@arxiv\\nhttps://t.co/3bMYfHffT1'>,\n",
       " <Tweet id=1765257323616886903 text='RT @rossdawson: Distilled from “How AI Ideas Affect the Creativity, Diversity, and Evolution of Human Ideas: Evidence From a Large, Dynamic…'>,\n",
       " <Tweet id=1764810285955625440 text='Distilled from “How AI Ideas Affect the Creativity, Diversity, and Evolution of Human Ideas: Evidence From a Large, Dynamic Experiment”, arXiv, January 2024 by @JoshAshkinaze  @jmendelsohn2 @cerenbudak et al'>]"
      ]
     },
     "execution_count": 31,
     "metadata": {},
     "output_type": "execute_result"
    }
   ],
   "source": [
    "includes['tweets']"
   ]
  },
  {
   "cell_type": "code",
   "execution_count": 40,
   "id": "d433d0bb-40cc-47f2-a492-e01af946e9c3",
   "metadata": {},
   "outputs": [
    {
     "data": {
      "text/plain": [
       "['https://t.co/lO…',\n",
       " 'https://t.co/lOBTMouIbx',\n",
       " 'https://t.co/MVOqCDYIDE',\n",
       " 'https://t.co/3bMYfHeI3t',\n",
       " 'https://t.co/54ccg1Kdi6',\n",
       " 'https://t.co/BATenwxakV',\n",
       " 'https://t.co/3bMYfHffT1']"
      ]
     },
     "execution_count": 40,
     "metadata": {},
     "output_type": "execute_result"
    }
   ],
   "source": [
    "import re\n",
    "\n",
    "def extract_short_urls(includes):\n",
    "    urls = []\n",
    "    url_pattern = r'https://[^\\s]+'\n",
    "    for tweet in includes['tweets']:\n",
    "        found_urls = re.findall(url_pattern, tweet['text'])\n",
    "        urls.extend(found_urls)\n",
    "    return urls\n",
    "extract_short_urls(includes)"
   ]
  },
  {
   "cell_type": "code",
   "execution_count": 36,
   "id": "8a1ce207-79dc-4aa1-a4dd-e48bd26e7033",
   "metadata": {},
   "outputs": [
    {
     "data": {
      "text/plain": [
       "['https://t.co/lO…',\n",
       " 'https://t.co/lOBTMouIbx',\n",
       " 'https://t.co/MVOqCDYIDE',\n",
       " 'https://t.co/3bMYfHeI3t',\n",
       " 'https://t.co/54ccg1Kdi6',\n",
       " 'https://t.co/BATenwxakV',\n",
       " 'https://t.co/3bMYfHffT1']"
      ]
     },
     "execution_count": 36,
     "metadata": {},
     "output_type": "execute_result"
    }
   ],
   "source": [
    "urls"
   ]
  },
  {
   "cell_type": "code",
   "execution_count": null,
   "id": "c4a4cb2b-0988-469b-8e19-37e24572b086",
   "metadata": {},
   "outputs": [],
   "source": []
  }
 ],
 "metadata": {
  "kernelspec": {
   "display_name": "Python 3 (ipykernel)",
   "language": "python",
   "name": "python3"
  },
  "language_info": {
   "codemirror_mode": {
    "name": "ipython",
    "version": 3
   },
   "file_extension": ".py",
   "mimetype": "text/x-python",
   "name": "python",
   "nbconvert_exporter": "python",
   "pygments_lexer": "ipython3",
   "version": "3.12.0"
  }
 },
 "nbformat": 4,
 "nbformat_minor": 5
}
