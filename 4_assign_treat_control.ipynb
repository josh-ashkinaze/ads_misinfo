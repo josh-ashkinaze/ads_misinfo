{
 "cells": [
  {
   "cell_type": "code",
   "execution_count": 2,
   "id": "d8967a96-8247-494e-a668-51c88f406a5e",
   "metadata": {},
   "outputs": [],
   "source": [
    "import pandas as pd\n",
    "import numpy as np\n",
    "import random"
   ]
  },
  {
   "cell_type": "code",
   "execution_count": 4,
   "id": "81519d92-0b91-4a5f-af96-372aa55e3edc",
   "metadata": {},
   "outputs": [
    {
     "name": "stdout",
     "output_type": "stream",
     "text": [
      "STATS BEFORE DE-DUPE\n",
      "PRINTING STATS\n",
      "Total N edges: 2250330\n",
      "Followers by spreader:\n",
      "            main  followers_id\n",
      "0   JackPosobiec        450066\n",
      "1   RealCandaceO        450066\n",
      "2  charliekirk11        450066\n",
      "3  gatewaypundit        450066\n",
      "4       stkirsch        450066\n",
      "STATS AFTER DE-DUPE\n",
      "PRINTING STATS\n",
      "Total N edges: 1762288\n",
      "Followers by spreader:\n",
      "            main  followers_id\n",
      "2  charliekirk11        333970\n",
      "0   JackPosobiec        342556\n",
      "3  gatewaypundit        345211\n",
      "1   RealCandaceO        370233\n",
      "4       stkirsch        370318\n"
     ]
    },
    {
     "name": "stderr",
     "output_type": "stream",
     "text": [
      "/var/folders/kj/8p_kqzx533b8vldhm5sdjfc00000gn/T/ipykernel_9109/1872407180.py:36: DeprecationWarning: DataFrameGroupBy.apply operated on the grouping columns. This behavior is deprecated, and in a future version of pandas the grouping columns will be excluded from the operation. Either pass `include_groups=False` to exclude the groupings or explicitly select the grouping columns after groupby to silence this warning.\n",
      "  df = df.groupby('main').apply(assign_group).reset_index(drop=True)\n"
     ]
    },
    {
     "name": "stdout",
     "output_type": "stream",
     "text": [
      "\n",
      "Splitting into treatment and control with treat prob = 0.8\n",
      "Verify logic works:\n",
      "main           group    \n",
      "JackPosobiec   treatment    0.799846\n",
      "               control      0.200154\n",
      "RealCandaceO   treatment    0.799921\n",
      "               control      0.200079\n",
      "charliekirk11  treatment    0.799757\n",
      "               control      0.200243\n",
      "gatewaypundit  treatment    0.799914\n",
      "               control      0.200086\n",
      "stkirsch       treatment    0.799926\n",
      "               control      0.200074\n",
      "Name: proportion, dtype: float64\n",
      "\n",
      "Raw counts\n",
      "main           group    \n",
      "JackPosobiec   treatment    273992\n",
      "               control       68564\n",
      "RealCandaceO   treatment    296157\n",
      "               control       74076\n",
      "charliekirk11  treatment    267095\n",
      "               control       66875\n",
      "gatewaypundit  treatment    276139\n",
      "               control       69072\n",
      "stkirsch       treatment    296227\n",
      "               control       74091\n",
      "Name: count, dtype: int64\n"
     ]
    }
   ],
   "source": [
    "ASSIGN_TREAT = 0.8\n",
    "\n",
    "def make_group_files(tdf):\n",
    "    spreaders = list(tdf['main'].unique())\n",
    "    for spreader in spreaders:\n",
    "        spreader_df = tdf[tdf['main'] == spreader]\n",
    "        spreader_treat = spreader_df.query(\"treated==1\")\n",
    "        spreader_ctrl = spreader_df.query(\"treated==0\")\n",
    "        spreader_treat[['followers_id']].to_csv(f\"treat_{spreader.lower()}.txt\", index=False, header=None)\n",
    "        spreader_ctrl[['followers_id']].to_csv(f\"ctrl_{spreader.lower()}.txt\", index=False, header=None)\n",
    "\n",
    "def assign_group(sub_df, treat_prob=ASSIGN_TREAT):\n",
    "    np.random.seed(42)  \n",
    "    random.seed(42)\n",
    "    sub_df['group'] = np.random.choice(['treatment', 'control'], size=len(sub_df), p=[treat_prob, 1-treat_prob])\n",
    "    return sub_df\n",
    "    \n",
    "def print_stats(df):\n",
    "    print(\"PRINTING STATS\")\n",
    "    print(\"Total N edges:\", len(df))\n",
    "    print(\"Followers by spreader:\")\n",
    "    print(df.groupby(by=['main']).count().reset_index().sort_values(by=['followers_id']))\n",
    "    \n",
    "\n",
    "\n",
    "df = pd.read_csv(\"MINIMAL_FOLLOWERS_03.04.2024__17.11.03__START0_END-1_uofmisinfowatch_acresearcher.csv\", dtype={'followers_id':'object'})\n",
    "df = df.sample(frac = 1, random_state=42)\n",
    "\n",
    "print(\"STATS BEFORE DE-DUPE\")\n",
    "print_stats(df)\n",
    "df = df.drop_duplicates(subset=['followers_id'])\n",
    "\n",
    "print(\"STATS AFTER DE-DUPE\")\n",
    "print_stats(df)\n",
    "\n",
    "df = df.groupby('main').apply(assign_group).reset_index(drop=True)\n",
    "df['treated'] = df['group'].apply(lambda x: 1 if x=='treatment' else 0)\n",
    "\n",
    "print(\"\\nSplitting into treatment and control with treat prob = {}\".format(ASSIGN_TREAT))\n",
    "print(\"Verify logic works:\")\n",
    "print(df.groupby(by=['main'])['group'].value_counts(normalize=True))\n",
    "    \n",
    "print(\"\\nRaw counts\")\n",
    "print(df.groupby(by=['main'])['group'].value_counts(normalize=False))\n",
    "\n",
    "make_group_files(df)\n",
    "\n",
    "df.to_csv(\"treat_status_MINIMAL_FOLLOWERS_03.04.2024__17.11.03__START0_END-1.csv\")"
   ]
  },
  {
   "cell_type": "code",
   "execution_count": null,
   "id": "da33ee6b-0c44-4a2a-9ec0-958fb129075f",
   "metadata": {},
   "outputs": [],
   "source": []
  }
 ],
 "metadata": {
  "kernelspec": {
   "display_name": "Python 3 (ipykernel)",
   "language": "python",
   "name": "python3"
  },
  "language_info": {
   "codemirror_mode": {
    "name": "ipython",
    "version": 3
   },
   "file_extension": ".py",
   "mimetype": "text/x-python",
   "name": "python",
   "nbconvert_exporter": "python",
   "pygments_lexer": "ipython3",
   "version": "3.12.0"
  }
 },
 "nbformat": 4,
 "nbformat_minor": 5
}
