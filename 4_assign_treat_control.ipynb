{
 "cells": [
  {
   "cell_type": "code",
   "execution_count": 1,
   "id": "d8967a96-8247-494e-a668-51c88f406a5e",
   "metadata": {},
   "outputs": [],
   "source": [
    "import pandas as pd\n",
    "import numpy as np\n",
    "import random"
   ]
  },
  {
   "cell_type": "code",
   "execution_count": 2,
   "id": "a2cadfa8-7f18-481c-8c9b-b33927a23602",
   "metadata": {},
   "outputs": [],
   "source": [
    "ASSIGN_TREAT = 0.8\n",
    "df = pd.read_csv(\"MINIMAL_FOLLOWERS_02.19.2024__17.01.30__START0_END-1_uofmisinfowatch_acresearcher.csv\", dtype={'followers_id':'object'})"
   ]
  },
  {
   "cell_type": "code",
   "execution_count": 3,
   "id": "81519d92-0b91-4a5f-af96-372aa55e3edc",
   "metadata": {},
   "outputs": [
    {
     "name": "stdout",
     "output_type": "stream",
     "text": [
      "PRINTING STATS\n",
      "Total N edges: 502760\n",
      "Followers by spreader:\n",
      "           main  followers_id\n",
      "2     exthepose          7995\n",
      "1  RealRawNews1         46419\n",
      "3  redvoicenews         48346\n",
      "0  JackPosobiec        200000\n",
      "4      stkirsch        200000\n",
      "\n",
      "Splitting into treatment and control with treat prob = 0.8\n",
      "Verify logic works:\n",
      "main          group    \n",
      "JackPosobiec  treatment    0.799510\n",
      "              control      0.200490\n",
      "RealRawNews1  treatment    0.800900\n",
      "              control      0.199100\n",
      "exthepose     treatment    0.801376\n",
      "              control      0.198624\n",
      "redvoicenews  treatment    0.800728\n",
      "              control      0.199272\n",
      "stkirsch      treatment    0.799510\n",
      "              control      0.200490\n",
      "Name: group, dtype: float64\n",
      "\n",
      "Raw counts\n",
      "main          group    \n",
      "JackPosobiec  treatment    159902\n",
      "              control       40098\n",
      "RealRawNews1  treatment     37177\n",
      "              control        9242\n",
      "exthepose     treatment      6407\n",
      "              control        1588\n",
      "redvoicenews  treatment     38712\n",
      "              control        9634\n",
      "stkirsch      treatment    159902\n",
      "              control       40098\n",
      "Name: group, dtype: int64\n"
     ]
    }
   ],
   "source": [
    "def make_group_files(tdf):\n",
    "    spreaders = list(tdf['main'].unique())\n",
    "    for spreader in spreaders:\n",
    "        spreader_df = tdf[tdf['main'] == spreader]\n",
    "        spreader_treat = spreader_df.query(\"treated==1\")\n",
    "        spreader_ctrl = spreader_df.query(\"treated==0\")\n",
    "        spreader_treat[['followers_id']].to_csv(f\"treat_{spreader.lower()}.txt\", index=False, header=None)\n",
    "        spreader_ctrl[['followers_id']].to_csv(f\"ctrl_{spreader.lower()}.txt\", index=False, header=None)\n",
    "\n",
    "def assign_group(sub_df, treat_prob=ASSIGN_TREAT):\n",
    "    np.random.seed(42)  \n",
    "    random.seed(42)\n",
    "    sub_df['group'] = np.random.choice(['treatment', 'control'], size=len(sub_df), p=[treat_prob, 1-treat_prob])\n",
    "    return sub_df\n",
    "    \n",
    "def print_stats(df):\n",
    "    print(\"PRINTING STATS\")\n",
    "    print(\"Total N edges:\", len(df))\n",
    "    print(\"Followers by spreader:\")\n",
    "    print(df.groupby(by=['main']).count().reset_index().sort_values(by=['followers_id']))\n",
    "    \n",
    "    \n",
    "print_stats(df)\n",
    "df = df.groupby('main').apply(assign_group).reset_index(drop=True)\n",
    "df['treated'] = df['group'].apply(lambda x: 1 if x=='treatment' else 0)\n",
    "\n",
    "print(\"\\nSplitting into treatment and control with treat prob = {}\".format(ASSIGN_TREAT))\n",
    "print(\"Verify logic works:\")\n",
    "print(df.groupby(by=['main'])['group'].value_counts(normalize=True))\n",
    "    \n",
    "print(\"\\nRaw counts\")\n",
    "print(df.groupby(by=['main'])['group'].value_counts(normalize=False))\n",
    "\n",
    "make_group_files(df)\n",
    "\n",
    "df.to_csv(\"treat_status_MINIMAL_FOLLOWERS_02.19.2024__17.01.30__START0_END-1_uofmisinfowatch_acresearcher.csv\")"
   ]
  },
  {
   "cell_type": "code",
   "execution_count": null,
   "id": "5c69e8fe-0b4a-4d7f-835a-ecbea11886ee",
   "metadata": {},
   "outputs": [],
   "source": []
  }
 ],
 "metadata": {
  "kernelspec": {
   "display_name": "PyCharm (misinformation_sim)",
   "language": "python",
   "name": "pycharm-9607488f"
  },
  "language_info": {
   "codemirror_mode": {
    "name": "ipython",
    "version": 3
   },
   "file_extension": ".py",
   "mimetype": "text/x-python",
   "name": "python",
   "nbconvert_exporter": "python",
   "pygments_lexer": "ipython3",
   "version": "3.8.8"
  }
 },
 "nbformat": 4,
 "nbformat_minor": 5
}
