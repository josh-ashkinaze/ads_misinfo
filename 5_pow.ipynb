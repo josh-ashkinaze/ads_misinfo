{
 "cells": [
  {
   "cell_type": "markdown",
   "id": "b553e1ae",
   "metadata": {},
   "source": [
    "# Packages"
   ]
  },
  {
   "cell_type": "markdown",
   "id": "b487aeba",
   "metadata": {},
   "source": [
    "# Power Analysis\n",
    "\n",
    "## Treatment Effect\n",
    "- A laboratory experiment (Kaiser et al (2022)) asked users to imagine that somebody the participant followed posted misinformation. Then the study asked participant's to rate their intentions to unfollow that individual on a scale of 1-6, with 1 being unfollowing \"does not at all apply\" and 6 being \"does fully apply\". Summing the percentage of respondents who answered 4-6 is a rough measure of the percentage of respondent's who would be more likely than not to unfollow. That sum is ~19%.\n",
    "\n",
    "- One study (Lin et al 2024) compared the effect size of accuracy nudges in the lab to the effect size of accurarcy nudges when used in a digital ad experiment similar to ours. We use this ratio to inform how much to discount Kaiser et al. (2022). From page 11, we use the lower bound of the ad efficacy (2.6%) and the upper bound of the lab estimate (10%) to arrive at a base discount factor of (1 - 2.6/10) 74%. Doing so would yield 26% of 19%  = 5%\n",
    "\n",
    "## Control Rate\n",
    "- Ashkinaze et al (2024) looked at the unfollowing rate of health misinformation spreaders and found it was 0.52% per month\n",
    "- We perturn this amount by +- 20%"
   ]
  },
  {
   "cell_type": "code",
   "execution_count": null,
   "id": "d7f4d629-0765-4648-8e22-6f62daa2de6e",
   "metadata": {},
   "outputs": [
    {
     "data": {
      "application/vnd.jupyter.widget-view+json": {
       "model_id": "5cb9f47d18de48528faa6a42e7e715a2",
       "version_major": 2,
       "version_minor": 0
      },
      "text/plain": [
       "Running simulations:   0%|          | 0/1000 [00:00<?, ?it/s]"
      ]
     },
     "metadata": {},
     "output_type": "display_data"
    }
   ],
   "source": [
    "import numpy as np\n",
    "import pandas as pd\n",
    "import matplotlib.pyplot as plt\n",
    "import seaborn as sns\n",
    "from joblib import Parallel, delayed\n",
    "from statsmodels.stats.proportion import proportions_ztest\n",
    "from tqdm.auto import tqdm\n",
    "\n",
    "# Constants \n",
    "NOISE = 0.2\n",
    "\n",
    "# Treatment assumptions\n",
    "TREATMENT_FX = 0.19\n",
    "BASE_TREATMENT_DISCOUNT = 1 - (2.6 / 10)\n",
    "TREATMENT_DISCOUNT_RANGE = [(1 - NOISE) * BASE_TREATMENT_DISCOUNT, (1 + NOISE) * BASE_TREATMENT_DISCOUNT]\n",
    "\n",
    "# Control assumptions\n",
    "CONTROL_MONTHLY_UNFOLLOW = 0.0052\n",
    "CONTROL_MONTHLY_UNFOLLOW_RANGE = [(1 - NOISE) * CONTROL_MONTHLY_UNFOLLOW, (1 + NOISE) * CONTROL_MONTHLY_UNFOLLOW]\n",
    "\n",
    "def process_task(control_prop, treatment_prop, n_days, N, treat_eligible, n_simulations, df):\n",
    "    adj_control_prop = control_prop * (n_days / 30)\n",
    "    power = estimate_power(df, N, adj_control_prop, treatment_prop, treat_eligible, n_simulations)\n",
    "    return {'control_prop': control_prop, 'treatment_prop': treatment_prop, 'n_days': n_days, 'N': N, 'power': power}\n",
    "\n",
    "\n",
    "def run_power_analysis(params, df):\n",
    "    tasks = [(control_prop, treatment_prop, n_days, N, params['treat_eligible'][0], params['n_simulations'], df)\n",
    "             for control_prop in params['control_prop']\n",
    "             for treatment_prop in params['treatment_prop']\n",
    "             for n_days in params['n_days']\n",
    "             for N in params['N_values']]\n",
    "    \n",
    "    results = Parallel(n_jobs=-1)(delayed(process_task)(*task) for task in tqdm(tasks, desc='Running simulations'))\n",
    "    \n",
    "    df_results = pd.DataFrame(results)\n",
    "    return df_results\n",
    "\n",
    "def estimate_power(df, N, control_prop, treatment_prop, treat_eligible, alpha=0.05, n_simulations=100):\n",
    "    df_sample = df.sample(N, replace=True)\n",
    "    N_control = df_sample[df_sample['treated'] == 0].shape[0]\n",
    "    N_treatment = df_sample[df_sample['treated'] == 1].shape[0]\n",
    "    N_effective_treatment = treat_eligible * N_treatment\n",
    "    \n",
    "    significant_count = 0\n",
    "    for _ in range(n_simulations):\n",
    "        is_significant = run_simulation(N_control, N_effective_treatment, control_prop, treatment_prop, alpha)\n",
    "        if is_significant:\n",
    "            significant_count += 1\n",
    "    return significant_count / n_simulations\n",
    "\n",
    "def run_simulation(N_control, N_treatment, control_prop, treatment_prop, alpha):\n",
    "    p_value = difference_in_proportions_test(N_control, N_treatment, control_prop, treatment_prop)\n",
    "    return p_value <= alpha\n",
    "\n",
    "def difference_in_proportions_test(N_control, N_treatment, control_prop, treatment_prop):\n",
    "    success_control = max(np.random.binomial(N_control, control_prop), 1)\n",
    "    success_treatment = max(np.random.binomial(N_treatment, treatment_prop), 1)\n",
    "    count = np.array([success_control, success_treatment])\n",
    "    nobs = np.array([N_control, N_treatment])\n",
    "    z_stat, p_value = proportions_ztest(count, nobs)\n",
    "    return p_value\n",
    "\n",
    "def make_graph(df_results):\n",
    "    df_results['treatment_prop_label'] = df_results['treatment_prop'].apply(lambda x: f\"{x:.3f}\")\n",
    "    plt.figure(figsize=(10, 6))\n",
    "    title = \"Power Analysis Graph\"\n",
    "    plt.title(title)\n",
    "    sns.lineplot(data=df_results, x=\"N\", y=\"power\", hue=\"treatment_prop_label\")\n",
    "    plt.axhline(y=0.8, linestyle='dashed', color='red')\n",
    "    plt.legend(title=\"Treatment Prop.\")\n",
    "    plt.xlabel(\"Sample Size\")\n",
    "    plt.ylabel(\"Power\")\n",
    "    sns.despine()\n",
    "    plt.show()\n",
    "\n",
    "def find_required_N(df_results):\n",
    "    df_filtered = df_results[df_results['power'] >= 0.8]\n",
    "    df_required_N = df_filtered.groupby('treatment_prop', as_index=False)['N'].min()\n",
    "    df_required_N['treatment_prop_label'] = df_required_N['treatment_prop'].apply(lambda x: f\"{x:.3f}\")\n",
    "    return df_required_N\n",
    "\n",
    "\n",
    "\n",
    "df = pd.read_csv(\"treat_status_MINIMAL_FOLLOWERS_03.04.2024__17.11.03__START0_END-1.csv\")\n",
    "params = {\n",
    "    'control_prop': [0.058],\n",
    "    'treatment_prop': np.linspace(0.0005, 0.05, 20),\n",
    "    'N_values': np.linspace(500, 20000, 50, dtype=int),\n",
    "    'n_days':[14],\n",
    "    'n_simulations': 1,\n",
    "    \"treat_eligible\":[0.3]\n",
    "}\n",
    "\n",
    "df_results = run_power_analysis(params, df)\n",
    "make_graph(df_results)\n",
    "print(find_required_N(df_results))"
   ]
  },
  {
   "cell_type": "code",
   "execution_count": null,
   "id": "6336d8a2-aab4-443d-89c3-d2560ff47cc4",
   "metadata": {},
   "outputs": [],
   "source": []
  }
 ],
 "metadata": {
  "kernelspec": {
   "display_name": "Python 3 (ipykernel)",
   "language": "python",
   "name": "python3"
  },
  "language_info": {
   "codemirror_mode": {
    "name": "ipython",
    "version": 3
   },
   "file_extension": ".py",
   "mimetype": "text/x-python",
   "name": "python",
   "nbconvert_exporter": "python",
   "pygments_lexer": "ipython3",
   "version": "3.12.0"
  },
  "toc": {
   "base_numbering": 1,
   "nav_menu": {},
   "number_sections": true,
   "sideBar": true,
   "skip_h1_title": false,
   "title_cell": "Table of Contents",
   "title_sidebar": "Contents",
   "toc_cell": true,
   "toc_position": {},
   "toc_section_display": true,
   "toc_window_display": false
  },
  "varInspector": {
   "cols": {
    "lenName": 16,
    "lenType": 16,
    "lenVar": 40
   },
   "kernels_config": {
    "python": {
     "delete_cmd_postfix": "",
     "delete_cmd_prefix": "del ",
     "library": "var_list.py",
     "varRefreshCmd": "print(var_dic_list())"
    },
    "r": {
     "delete_cmd_postfix": ") ",
     "delete_cmd_prefix": "rm(",
     "library": "var_list.r",
     "varRefreshCmd": "cat(var_dic_list()) "
    }
   },
   "types_to_exclude": [
    "module",
    "function",
    "builtin_function_or_method",
    "instance",
    "_Feature"
   ],
   "window_display": false
  }
 },
 "nbformat": 4,
 "nbformat_minor": 5
}
